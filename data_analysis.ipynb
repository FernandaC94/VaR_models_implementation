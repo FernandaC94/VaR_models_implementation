{
 "cells": [
  {
   "cell_type": "code",
   "execution_count": 55,
   "id": "6fac59db",
   "metadata": {},
   "outputs": [],
   "source": [
    "#importing dependencies\n",
    "import nbimporter\n",
    "import Var\n",
    "import numpy as np\n",
    "import pandas as pd\n",
    "import yfinance as yf\n",
    "import matplotlib.pyplot as plt\n",
    "import seaborn as sns\n",
    "import random \n",
    "import scipy.optimize\n",
    "from scipy import stats \n",
    "from pandas_datareader import data as pdr\n",
    "from scipy.stats import norm,binom,chi2\n",
    "from scipy.linalg import cholesky\n",
    "import matplotlib.pyplot as plt \n",
    "import datetime as dt\n",
    "import numpy as np\n",
    "sns.set()"
   ]
  },
  {
   "cell_type": "code",
   "execution_count": 56,
   "id": "1f4b56ba",
   "metadata": {},
   "outputs": [],
   "source": [
    "#IMPORTING THE RELEVANT DATA\n",
    "tickers_list=['AAPL','AMZN','MSFT','GOOG']\n",
    "start=dt.datetime(2016,1,1)\n",
    "end=dt.datetime(2019,1,1)\n",
    "data,returns,dates,meanReturns,covMatrix=Var.getData(tickers_list,start,end)"
   ]
  },
  {
   "cell_type": "markdown",
   "id": "d5028df6",
   "metadata": {},
   "source": [
    "## Data analysis\n",
    "### Histogram of the daily returns \n",
    "we want to know if the daily stock returns historical data is normal distributed. For this purpose we plot our data and we do different statisticals tests."
   ]
  },
  {
   "cell_type": "code",
   "execution_count": 58,
   "id": "48efe920",
   "metadata": {},
   "outputs": [
    {
     "data": {
      "text/plain": [
       "<matplotlib.legend.Legend at 0x1b8875eea70>"
      ]
     },
     "execution_count": 58,
     "metadata": {},
     "output_type": "execute_result"
    },
    {
     "data": {
      "image/png": "[encoded data removed]",
      "text/plain": [
       "<Figure size 432x288 with 1 Axes>"
      ]
     },
     "metadata": {},
     "output_type": "display_data"
    }
   ],
   "source": [
    "#fitting a normal curve for observation \n",
    "mean,std=norm.fit(returns.iloc[:,2])\n",
    "cols=returns.columns\n",
    "#plotting the histogram of the data \n",
    "plt.hist(returns.iloc[:,0],bins=50,density=True,label=cols[0])\n",
    "plt.hist(returns.iloc[:,1],bins=50,density=True,label=cols[1])\n",
    "plt.hist(returns.iloc[:,2],bins=50,density=True,label=cols[2])\n",
    "plt.hist(returns.iloc[:,3],bins=50,density=True,label=cols[3])\n",
    "#plot the normal  PDF\n",
    "xmin,xmax=plt.xlim()\n",
    "x=np.linspace(xmin,xmax,100)\n",
    "fittedData=norm.pdf(x,mean,std)\n",
    "plt.plot(x,fittedData,'k-')\n",
    "plt.title('Histogram of daily asset returns and normal distribution curve')\n",
    "plt.ylabel('Frequency')\n",
    "plt.xlabel('Returns')\n",
    "plt.legend()\n",
    "\n"
   ]
  },
  {
   "cell_type": "markdown",
   "id": "935dd294",
   "metadata": {},
   "source": [
    "### Calculating the percentage of data within one,two and three std and beyond 5 for a random normal data and our data"
   ]
  },
  {
   "cell_type": "code",
   "execution_count": 59,
   "id": "8bdee66d",
   "metadata": {},
   "outputs": [],
   "source": [
    "np.random.seed(2802)\n",
    "one_std=[]\n",
    "two_std=[]\n",
    "three_std=[]\n",
    "five_std_plus=[]\n",
    "row,col=returns.shape\n",
    "norm_data=np.random.normal(0, 1, len(returns))\n",
    "mean=np.mean(norm_data)\n",
    "std=np.std(norm_data)\n",
    "\n",
    "def std_prop(mean,std):\n",
    "    \"\"\" function that calculates the percentage\n",
    "    of data within 1,2,3 and >5 sd\"\"\"\n",
    "\n",
    "    one=((norm.cdf(std, mean,std) - norm.cdf(-std, mean,std))*100)\n",
    "    two=((norm.cdf(2*std, mean,std) - norm.cdf(-2*std, mean,std))*100)\n",
    "    three=((norm.cdf(3*std, mean,std) - norm.cdf(-3 *std, mean,std))*100)\n",
    "    five=((1-(norm.cdf(5*std, mean,std) - norm.cdf(-5 *std, mean,std)))*100)\n",
    "    return one,two,three,five\n",
    "\n",
    "one,two,three,five=std_prop(mean,std)\n",
    "one_std.append(one)\n",
    "two_std.append(two)\n",
    "three_std.append(three)\n",
    "five_std_plus.append(five)\n",
    "\n",
    "for i in range(col):\n",
    "    mean,std=norm.fit(returns.iloc[:,i])\n",
    "    one,two,three,five=std_prop(mean,std)\n",
    "    one_std.append(one)\n",
    "    two_std.append(two)\n",
    "    three_std.append(three)\n",
    "    five_std_plus.append(five)\n"
   ]
  },
  {
   "cell_type": "code",
   "execution_count": 60,
   "id": "c7361deb",
   "metadata": {},
   "outputs": [
    {
     "data": {
      "text/html": [
       "<div>\n",
       "<style scoped>\n",
       "    .dataframe tbody tr th:only-of-type {\n",
       "        vertical-align: middle;\n",
       "    }\n",
       "\n",
       "    .dataframe tbody tr th {\n",
       "        vertical-align: top;\n",
       "    }\n",
       "\n",
       "    .dataframe thead th {\n",
       "        text-align: right;\n",
       "    }\n",
       "</style>\n",
       "<table border=\"1\" class=\"dataframe\">\n",
       "  <thead>\n",
       "    <tr style=\"text-align: right;\">\n",
       "      <th></th>\n",
       "      <th>% data within 1-std</th>\n",
       "      <th>% data within 2-std</th>\n",
       "      <th>% data within 3-std</th>\n",
       "      <th>% data &gt; 5 std</th>\n",
       "    </tr>\n",
       "  </thead>\n",
       "  <tbody>\n",
       "    <tr>\n",
       "      <th>NORMAL</th>\n",
       "      <td>68.266219</td>\n",
       "      <td>95.448755</td>\n",
       "      <td>99.729870</td>\n",
       "      <td>0.000057</td>\n",
       "    </tr>\n",
       "    <tr>\n",
       "      <th>AAPL</th>\n",
       "      <td>68.223402</td>\n",
       "      <td>95.429638</td>\n",
       "      <td>99.727515</td>\n",
       "      <td>0.000059</td>\n",
       "    </tr>\n",
       "    <tr>\n",
       "      <th>AMZN</th>\n",
       "      <td>68.147656</td>\n",
       "      <td>95.395777</td>\n",
       "      <td>99.723333</td>\n",
       "      <td>0.000061</td>\n",
       "    </tr>\n",
       "    <tr>\n",
       "      <th>MSFT</th>\n",
       "      <td>68.167579</td>\n",
       "      <td>95.404689</td>\n",
       "      <td>99.724435</td>\n",
       "      <td>0.000060</td>\n",
       "    </tr>\n",
       "    <tr>\n",
       "      <th>GOOG</th>\n",
       "      <td>68.231791</td>\n",
       "      <td>95.433385</td>\n",
       "      <td>99.727977</td>\n",
       "      <td>0.000058</td>\n",
       "    </tr>\n",
       "  </tbody>\n",
       "</table>\n",
       "</div>"
      ],
      "text/plain": [
       "        % data within 1-std  % data within 2-std  % data within 3-std  \\\n",
       "NORMAL            68.266219            95.448755            99.729870   \n",
       "AAPL              68.223402            95.429638            99.727515   \n",
       "AMZN              68.147656            95.395777            99.723333   \n",
       "MSFT              68.167579            95.404689            99.724435   \n",
       "GOOG              68.231791            95.433385            99.727977   \n",
       "\n",
       "        % data > 5 std  \n",
       "NORMAL        0.000057  \n",
       "AAPL          0.000059  \n",
       "AMZN          0.000061  \n",
       "MSFT          0.000060  \n",
       "GOOG          0.000058  "
      ]
     },
     "execution_count": 60,
     "metadata": {},
     "output_type": "execute_result"
    }
   ],
   "source": [
    "index=list(returns.columns)\n",
    "index.insert(0,'NORMAL')\n",
    "table=pd.DataFrame(list(zip(one_std,two_std,three_std, five_std_plus )),\\\n",
    "                   columns = ['% data within 1-std', '% data within 2-std','% data within 3-std','% data > 5 std'],\\\n",
    "                   index=index)\n",
    "table"
   ]
  },
  {
   "cell_type": "markdown",
   "id": "de09b1de",
   "metadata": {},
   "source": [
    "### Q_Q plots or Quantile-Quantile plots\n"
   ]
  },
  {
   "cell_type": "code",
   "execution_count": 61,
   "id": "30d8122b",
   "metadata": {},
   "outputs": [
    {
     "data": {
      "image/png": "[encoded data removed]",
      "text/plain": [
       "<Figure size 576x432 with 4 Axes>"
      ]
     },
     "metadata": {},
     "output_type": "display_data"
    }
   ],
   "source": [
    "cols=returns.columns\n",
    "plt.figure(figsize=(8,6))\n",
    "plt.subplot(221)\n",
    "stats.probplot(returns.iloc[:,0], dist='norm',plot=plt);\n",
    "plt.title('Q-Q plots for {}'.format(cols[0]))\n",
    "plt.subplot(222)\n",
    "stats.probplot(returns.iloc[:,1], dist='norm',plot=plt);\n",
    "plt.title('Q-Q plots for {}'.format(cols[1]))\n",
    "plt.subplot(223)\n",
    "stats.probplot(returns.iloc[:,2], dist='norm',plot=plt);\n",
    "plt.title('Q-Q plots for {}'.format(cols[2]))\n",
    "plt.subplot(224)\n",
    "plt.title('Q-Q plots for {}'.format(cols[3]))\n",
    "stats.probplot(returns.iloc[:,3], dist='norm',plot=plt);\n",
    "plt.tight_layout()\n",
    "\n",
    "\n"
   ]
  },
  {
   "cell_type": "markdown",
   "id": "72a88fd0",
   "metadata": {},
   "source": [
    "### Shaphiro-Wilks Test\n",
    "\n"
   ]
  },
  {
   "cell_type": "code",
   "execution_count": 62,
   "id": "c6b7e504",
   "metadata": {},
   "outputs": [],
   "source": [
    "sig_level=0.05\n",
    "p_values=[]\n",
    "acceptance=[]\n",
    "\n",
    "def ShaphiroTest(data,sig_level):\n",
    "    stat,p_value=stats.shapiro(data)\n",
    "    return p_value\n",
    "\n",
    "# storing the p-values of the test\n",
    "for i in range(col):\n",
    "    p_value=ShaphiroTest(returns.iloc[:,i],sig_level)\n",
    "    p_values.append(p_value)\n",
    "    if p_value>sig_level:\n",
    "        result=' Fail to reject'\n",
    "    else:\n",
    "        result='reject'\n",
    "    acceptance.append(result)\n",
    "    "
   ]
  },
  {
   "cell_type": "markdown",
   "id": "be07218f",
   "metadata": {},
   "source": [
    "### Analysis of kurtosis and skewness"
   ]
  },
  {
   "cell_type": "code",
   "execution_count": 63,
   "id": "4660116e",
   "metadata": {},
   "outputs": [
    {
     "data": {
      "text/html": [
       "<div>\n",
       "<style scoped>\n",
       "    .dataframe tbody tr th:only-of-type {\n",
       "        vertical-align: middle;\n",
       "    }\n",
       "\n",
       "    .dataframe tbody tr th {\n",
       "        vertical-align: top;\n",
       "    }\n",
       "\n",
       "    .dataframe thead th {\n",
       "        text-align: right;\n",
       "    }\n",
       "</style>\n",
       "<table border=\"1\" class=\"dataframe\">\n",
       "  <thead>\n",
       "    <tr style=\"text-align: right;\">\n",
       "      <th></th>\n",
       "      <th>Kurtosis</th>\n",
       "      <th>skewness</th>\n",
       "      <th>p_values of SW test</th>\n",
       "      <th>H0: Normality at 5.0% CL</th>\n",
       "    </tr>\n",
       "  </thead>\n",
       "  <tbody>\n",
       "    <tr>\n",
       "      <th>AAPL</th>\n",
       "      <td>3.587451</td>\n",
       "      <td>-0.051424</td>\n",
       "      <td>1.883859e-16</td>\n",
       "      <td>reject</td>\n",
       "    </tr>\n",
       "    <tr>\n",
       "      <th>AMZN</th>\n",
       "      <td>7.300626</td>\n",
       "      <td>0.445357</td>\n",
       "      <td>6.472159e-22</td>\n",
       "      <td>reject</td>\n",
       "    </tr>\n",
       "    <tr>\n",
       "      <th>MSFT</th>\n",
       "      <td>4.469811</td>\n",
       "      <td>0.070917</td>\n",
       "      <td>9.766517e-18</td>\n",
       "      <td>reject</td>\n",
       "    </tr>\n",
       "    <tr>\n",
       "      <th>GOOG</th>\n",
       "      <td>2.777237</td>\n",
       "      <td>-0.445779</td>\n",
       "      <td>2.348166e-15</td>\n",
       "      <td>reject</td>\n",
       "    </tr>\n",
       "  </tbody>\n",
       "</table>\n",
       "</div>"
      ],
      "text/plain": [
       "      Kurtosis  skewness  p_values of SW test H0: Normality at 5.0% CL\n",
       "AAPL  3.587451 -0.051424         1.883859e-16                   reject\n",
       "AMZN  7.300626  0.445357         6.472159e-22                   reject\n",
       "MSFT  4.469811  0.070917         9.766517e-18                   reject\n",
       "GOOG  2.777237 -0.445779         2.348166e-15                   reject"
      ]
     },
     "execution_count": 63,
     "metadata": {},
     "output_type": "execute_result"
    }
   ],
   "source": [
    "index=list(returns.columns)\n",
    "table1=pd.DataFrame(list(zip(stats.kurtosis(returns,axis=0, fisher=True),stats.skew(returns,axis=0),p_values,acceptance)),\\\n",
    "                   columns = ['Kurtosis','skewness', 'p_values of SW test','H0: Normality at {}% CL'.format(sig_level*100)],\\\n",
    "                   index=index)\n",
    "table1"
   ]
  }
 ],
 "metadata": {
  "kernelspec": {
   "display_name": "Python 3.10.1 64-bit",
   "language": "python",
   "name": "python3"
  },
  "language_info": {
   "codemirror_mode": {
    "name": "ipython",
    "version": 3
   },
   "file_extension": ".py",
   "mimetype": "text/x-python",
   "name": "python",
   "nbconvert_exporter": "python",
   "pygments_lexer": "ipython3",
   "version": "3.10.1"
  },
  "vscode": {
   "interpreter": {
    "hash": "ebad247e5534c1ba5b14ab8cc72fe2532bc9dd980a9cee8d1951b26de076f558"
   }
  }
 },
 "nbformat": 4,
 "nbformat_minor": 5
}
